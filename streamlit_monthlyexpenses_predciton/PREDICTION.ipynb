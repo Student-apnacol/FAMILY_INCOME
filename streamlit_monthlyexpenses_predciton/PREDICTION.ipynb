{
 "cells": [
  {
   "cell_type": "code",
   "execution_count": 47,
   "metadata": {},
   "outputs": [],
   "source": [
    "#importing basics libraries\n",
    "import pandas as pd\n",
    "import numpy as np\n",
    "import matplotlib.pyplot as plt\n",
    "import seaborn as sns\n",
    "%matplotlib inline\n",
    "\n",
    "\n",
    "# Modelling-\n",
    "from sklearn.metrics import mean_squared_error, r2_score\n",
    "from sklearn.preprocessing import StandardScaler\n",
    "from sklearn.neighbors import KNeighborsRegressor\n",
    "from sklearn.tree import DecisionTreeRegressor\n",
    "from sklearn.ensemble import RandomForestRegressor,AdaBoostRegressor\n",
    "from sklearn.svm import SVR\n",
    "from sklearn.linear_model import LinearRegression, Ridge,Lasso\n",
    "from sklearn.metrics import r2_score, mean_absolute_error, mean_squared_error\n",
    "from sklearn.model_selection import train_test_split,GridSearchCV, RandomizedSearchCV\n",
    "from catboost import CatBoostRegressor\n",
    "from xgboost import XGBRegressor\n",
    "\n",
    "import pickle"
   ]
  },
  {
   "cell_type": "code",
   "execution_count": 48,
   "metadata": {},
   "outputs": [],
   "source": [
    "df_train = pd.read_csv('family_financial_and_transactions_data.csv')"
   ]
  },
  {
   "cell_type": "code",
   "execution_count": 71,
   "metadata": {},
   "outputs": [
    {
     "data": {
      "text/html": [
       "<div>\n",
       "<style scoped>\n",
       "    .dataframe tbody tr th:only-of-type {\n",
       "        vertical-align: middle;\n",
       "    }\n",
       "\n",
       "    .dataframe tbody tr th {\n",
       "        vertical-align: top;\n",
       "    }\n",
       "\n",
       "    .dataframe thead th {\n",
       "        text-align: right;\n",
       "    }\n",
       "</style>\n",
       "<table border=\"1\" class=\"dataframe\">\n",
       "  <thead>\n",
       "    <tr style=\"text-align: right;\">\n",
       "      <th></th>\n",
       "      <th>Category</th>\n",
       "      <th>Amount</th>\n",
       "      <th>Income</th>\n",
       "      <th>Savings</th>\n",
       "      <th>Monthly Expenses</th>\n",
       "      <th>Loan Payments</th>\n",
       "      <th>Credit Card Spending</th>\n",
       "      <th>Dependents</th>\n",
       "      <th>Financial Goals Met (%)</th>\n",
       "      <th>Day</th>\n",
       "      <th>Is_Weekend</th>\n",
       "    </tr>\n",
       "  </thead>\n",
       "  <tbody>\n",
       "    <tr>\n",
       "      <th>0</th>\n",
       "      <td>Travel</td>\n",
       "      <td>409.12</td>\n",
       "      <td>113810</td>\n",
       "      <td>20234</td>\n",
       "      <td>5781</td>\n",
       "      <td>2422</td>\n",
       "      <td>2959</td>\n",
       "      <td>2</td>\n",
       "      <td>68</td>\n",
       "      <td>7</td>\n",
       "      <td>0</td>\n",
       "    </tr>\n",
       "    <tr>\n",
       "      <th>1</th>\n",
       "      <td>Travel</td>\n",
       "      <td>270.91</td>\n",
       "      <td>113810</td>\n",
       "      <td>20234</td>\n",
       "      <td>5781</td>\n",
       "      <td>2422</td>\n",
       "      <td>2959</td>\n",
       "      <td>2</td>\n",
       "      <td>68</td>\n",
       "      <td>16</td>\n",
       "      <td>0</td>\n",
       "    </tr>\n",
       "    <tr>\n",
       "      <th>2</th>\n",
       "      <td>Groceries</td>\n",
       "      <td>91.10</td>\n",
       "      <td>113810</td>\n",
       "      <td>20234</td>\n",
       "      <td>5781</td>\n",
       "      <td>2422</td>\n",
       "      <td>2959</td>\n",
       "      <td>2</td>\n",
       "      <td>68</td>\n",
       "      <td>17</td>\n",
       "      <td>0</td>\n",
       "    </tr>\n",
       "    <tr>\n",
       "      <th>3</th>\n",
       "      <td>Healthcare</td>\n",
       "      <td>198.23</td>\n",
       "      <td>113810</td>\n",
       "      <td>20234</td>\n",
       "      <td>5781</td>\n",
       "      <td>2422</td>\n",
       "      <td>2959</td>\n",
       "      <td>2</td>\n",
       "      <td>68</td>\n",
       "      <td>25</td>\n",
       "      <td>0</td>\n",
       "    </tr>\n",
       "    <tr>\n",
       "      <th>4</th>\n",
       "      <td>Education</td>\n",
       "      <td>206.42</td>\n",
       "      <td>113810</td>\n",
       "      <td>20234</td>\n",
       "      <td>5781</td>\n",
       "      <td>2422</td>\n",
       "      <td>2959</td>\n",
       "      <td>2</td>\n",
       "      <td>68</td>\n",
       "      <td>25</td>\n",
       "      <td>0</td>\n",
       "    </tr>\n",
       "  </tbody>\n",
       "</table>\n",
       "</div>"
      ],
      "text/plain": [
       "     Category  Amount  Income  Savings  Monthly Expenses  Loan Payments  \\\n",
       "0      Travel  409.12  113810    20234              5781           2422   \n",
       "1      Travel  270.91  113810    20234              5781           2422   \n",
       "2   Groceries   91.10  113810    20234              5781           2422   \n",
       "3  Healthcare  198.23  113810    20234              5781           2422   \n",
       "4   Education  206.42  113810    20234              5781           2422   \n",
       "\n",
       "   Credit Card Spending  Dependents  Financial Goals Met (%)  Day  Is_Weekend  \n",
       "0                  2959           2                       68    7           0  \n",
       "1                  2959           2                       68   16           0  \n",
       "2                  2959           2                       68   17           0  \n",
       "3                  2959           2                       68   25           0  \n",
       "4                  2959           2                       68   25           0  "
      ]
     },
     "execution_count": 71,
     "metadata": {},
     "output_type": "execute_result"
    }
   ],
   "source": [
    "df_train.head()"
   ]
  },
  {
   "cell_type": "code",
   "execution_count": 83,
   "metadata": {},
   "outputs": [],
   "source": [
    "# Define the target (y) and features (X)\n",
    "X = df_train.drop(columns=['Monthly Expenses'])  # Dropping the target column\n",
    "y = df_train['Monthly Expenses']  # Target variable"
   ]
  },
  {
   "cell_type": "code",
   "execution_count": 84,
   "metadata": {},
   "outputs": [],
   "source": [
    "X_train, X_test, y_train, y_test = train_test_split(X,y,test_size=0.2,random_state=42)"
   ]
  },
  {
   "cell_type": "code",
   "execution_count": 85,
   "metadata": {},
   "outputs": [
    {
     "data": {
      "text/html": [
       "<div>\n",
       "<style scoped>\n",
       "    .dataframe tbody tr th:only-of-type {\n",
       "        vertical-align: middle;\n",
       "    }\n",
       "\n",
       "    .dataframe tbody tr th {\n",
       "        vertical-align: top;\n",
       "    }\n",
       "\n",
       "    .dataframe thead th {\n",
       "        text-align: right;\n",
       "    }\n",
       "</style>\n",
       "<table border=\"1\" class=\"dataframe\">\n",
       "  <thead>\n",
       "    <tr style=\"text-align: right;\">\n",
       "      <th></th>\n",
       "      <th>Category</th>\n",
       "      <th>Amount</th>\n",
       "      <th>Income</th>\n",
       "      <th>Savings</th>\n",
       "      <th>Loan Payments</th>\n",
       "      <th>Credit Card Spending</th>\n",
       "      <th>Dependents</th>\n",
       "      <th>Financial Goals Met (%)</th>\n",
       "      <th>Day</th>\n",
       "      <th>Is_Weekend</th>\n",
       "    </tr>\n",
       "  </thead>\n",
       "  <tbody>\n",
       "    <tr>\n",
       "      <th>10315</th>\n",
       "      <td>Utilities</td>\n",
       "      <td>144.79</td>\n",
       "      <td>135518</td>\n",
       "      <td>13025</td>\n",
       "      <td>237</td>\n",
       "      <td>1534</td>\n",
       "      <td>1</td>\n",
       "      <td>53</td>\n",
       "      <td>24</td>\n",
       "      <td>0</td>\n",
       "    </tr>\n",
       "    <tr>\n",
       "      <th>4245</th>\n",
       "      <td>Travel</td>\n",
       "      <td>244.61</td>\n",
       "      <td>42156</td>\n",
       "      <td>14880</td>\n",
       "      <td>873</td>\n",
       "      <td>1631</td>\n",
       "      <td>1</td>\n",
       "      <td>89</td>\n",
       "      <td>26</td>\n",
       "      <td>1</td>\n",
       "    </tr>\n",
       "    <tr>\n",
       "      <th>3728</th>\n",
       "      <td>Healthcare</td>\n",
       "      <td>274.82</td>\n",
       "      <td>66421</td>\n",
       "      <td>37031</td>\n",
       "      <td>3145</td>\n",
       "      <td>1368</td>\n",
       "      <td>2</td>\n",
       "      <td>52</td>\n",
       "      <td>24</td>\n",
       "      <td>0</td>\n",
       "    </tr>\n",
       "    <tr>\n",
       "      <th>10884</th>\n",
       "      <td>Utilities</td>\n",
       "      <td>269.05</td>\n",
       "      <td>144867</td>\n",
       "      <td>4315</td>\n",
       "      <td>220</td>\n",
       "      <td>719</td>\n",
       "      <td>2</td>\n",
       "      <td>67</td>\n",
       "      <td>11</td>\n",
       "      <td>0</td>\n",
       "    </tr>\n",
       "    <tr>\n",
       "      <th>11573</th>\n",
       "      <td>Healthcare</td>\n",
       "      <td>106.00</td>\n",
       "      <td>145957</td>\n",
       "      <td>27634</td>\n",
       "      <td>1111</td>\n",
       "      <td>985</td>\n",
       "      <td>1</td>\n",
       "      <td>61</td>\n",
       "      <td>6</td>\n",
       "      <td>1</td>\n",
       "    </tr>\n",
       "  </tbody>\n",
       "</table>\n",
       "</div>"
      ],
      "text/plain": [
       "         Category  Amount  Income  Savings  Loan Payments  \\\n",
       "10315   Utilities  144.79  135518    13025            237   \n",
       "4245       Travel  244.61   42156    14880            873   \n",
       "3728   Healthcare  274.82   66421    37031           3145   \n",
       "10884   Utilities  269.05  144867     4315            220   \n",
       "11573  Healthcare  106.00  145957    27634           1111   \n",
       "\n",
       "       Credit Card Spending  Dependents  Financial Goals Met (%)  Day  \\\n",
       "10315                  1534           1                       53   24   \n",
       "4245                   1631           1                       89   26   \n",
       "3728                   1368           2                       52   24   \n",
       "10884                   719           2                       67   11   \n",
       "11573                   985           1                       61    6   \n",
       "\n",
       "       Is_Weekend  \n",
       "10315           0  \n",
       "4245            1  \n",
       "3728            0  \n",
       "10884           0  \n",
       "11573           1  "
      ]
     },
     "execution_count": 85,
     "metadata": {},
     "output_type": "execute_result"
    }
   ],
   "source": [
    "X_train.head()"
   ]
  },
  {
   "cell_type": "code",
   "execution_count": 74,
   "metadata": {},
   "outputs": [],
   "source": [
    "cat_features = X.select_dtypes(include=\"object\").columns\n",
    "num_features = X.select_dtypes(exclude=\"object\").columns\n"
   ]
  },
  {
   "cell_type": "code",
   "execution_count": 86,
   "metadata": {},
   "outputs": [],
   "source": [
    "from sklearn.preprocessing import OneHotEncoder, StandardScaler\n",
    "from sklearn.compose import ColumnTransformer\n",
    "numeric_transformer = StandardScaler()\n",
    "oh_transformer = OneHotEncoder(drop='first')\n",
    "preprocessor = ColumnTransformer(\n",
    "[(\"OneHotEncoder\", oh_transformer, cat_features),\n",
    "(\"StandardScaler\", numeric_transformer, num_features)\n",
    "])"
   ]
  },
  {
   "cell_type": "code",
   "execution_count": 87,
   "metadata": {},
   "outputs": [],
   "source": [
    "X_train=preprocessor.fit_transform(X_train)\n",
    "X_test=preprocessor.transform(X_test)"
   ]
  },
  {
   "cell_type": "code",
   "execution_count": 88,
   "metadata": {},
   "outputs": [],
   "source": [
    "\n",
    "# Example input data (Ensure it's in the right format: 1 row, multiple columns)\n",
    "input_data = {\n",
    "    'Category': 'Groceries',\n",
    "    'Amount': 200.0,\n",
    "    'Income': 120000,\n",
    "    'Savings': 30000,\n",
    "    'Loan Payments': 2000,\n",
    "    'Credit Card Spending': 1500,\n",
    "    'Dependents': 2,\n",
    "    'Financial Goals Met (%)': 75,\n",
    "    'Day':2,\n",
    "    'Is_Weekend': 4\n",
    "}\n"
   ]
  },
  {
   "cell_type": "code",
   "execution_count": 81,
   "metadata": {},
   "outputs": [
    {
     "data": {
      "text/plain": [
       "array([[ 0.        ,  0.        ,  0.        , ..., -0.2661997 ,\n",
       "         0.89129614, -0.58785592],\n",
       "       [ 0.        ,  0.        ,  0.        , ...,  1.26598295,\n",
       "         1.11516495,  1.7010971 ],\n",
       "       [ 0.        ,  0.        ,  0.        , ..., -0.30876033,\n",
       "         0.89129614, -0.58785592],\n",
       "       ...,\n",
       "       [ 0.        ,  0.        ,  1.        , ..., -0.13851782,\n",
       "        -0.78771992, -0.58785592],\n",
       "       [ 0.        ,  0.        ,  0.        , ..., -1.58557921,\n",
       "        -0.67578551, -0.58785592],\n",
       "       [ 0.        ,  0.        ,  0.        , ...,  1.73414987,\n",
       "        -0.2280479 , -0.58785592]])"
      ]
     },
     "execution_count": 81,
     "metadata": {},
     "output_type": "execute_result"
    }
   ],
   "source": [
    "X_train"
   ]
  },
  {
   "cell_type": "code",
   "execution_count": 101,
   "metadata": {},
   "outputs": [
    {
     "data": {
      "text/plain": [
       "array([[0., 0., 0., 0., 0., 0., 0., 0., 0.]])"
      ]
     },
     "execution_count": 101,
     "metadata": {},
     "output_type": "execute_result"
    }
   ],
   "source": [
    "preprocessor.transform(input_df)"
   ]
  },
  {
   "cell_type": "code",
   "execution_count": 55,
   "metadata": {},
   "outputs": [],
   "source": [
    "def evaluate_model(true, predicted):\n",
    "    mae = mean_absolute_error(true, predicted)\n",
    "    mse = mean_squared_error(true, predicted)\n",
    "    rmse = np.sqrt(mean_squared_error(true, predicted))\n",
    "    r2_square = r2_score(true, predicted)\n",
    "    return mae, rmse, r2_square"
   ]
  },
  {
   "cell_type": "code",
   "execution_count": 56,
   "metadata": {},
   "outputs": [
    {
     "name": "stdout",
     "output_type": "stream",
     "text": [
      "---------------- Random Forest Regressor ----------------\n",
      "Model performance for Training set\n",
      "- Root Mean Squared Error: 0.0000\n",
      "- Mean Absolute Error: 0.0000\n",
      "- R2 Score: 1.0000\n",
      "----------------------------------\n",
      "Model performance for Test set\n",
      "- Root Mean Squared Error: 0.0000\n",
      "- Mean Absolute Error: 0.0000\n",
      "- R2 Score: 1.0000\n",
      "===================================\n",
      "\n",
      "\n",
      "---------------- XGBoost ----------------\n",
      "Model performance for Training set\n",
      "- Root Mean Squared Error: 0.2116\n",
      "- Mean Absolute Error: 0.1510\n",
      "- R2 Score: 1.0000\n",
      "----------------------------------\n",
      "Model performance for Test set\n",
      "- Root Mean Squared Error: 0.2228\n",
      "- Mean Absolute Error: 0.1591\n",
      "- R2 Score: 1.0000\n",
      "===================================\n",
      "\n",
      "\n"
     ]
    }
   ],
   "source": [
    "from sklearn.ensemble import RandomForestRegressor\n",
    "import xgboost as xgb\n",
    "from sklearn.metrics import mean_absolute_error, mean_squared_error, r2_score\n",
    "import numpy as np\n",
    "\n",
    "# Define Random Forest and XGBoost models\n",
    "models = {\n",
    "    \"Random Forest Regressor\": RandomForestRegressor(),\n",
    "    \"XGBoost\": xgb.XGBRegressor()\n",
    "}\n",
    "\n",
    "# Function to evaluate model performance\n",
    "def evaluate_model(true, predicted):\n",
    "    mae = mean_absolute_error(true, predicted)\n",
    "    mse = mean_squared_error(true, predicted)\n",
    "    rmse = np.sqrt(mse)\n",
    "    r2 = r2_score(true, predicted)\n",
    "    return mae, rmse, r2\n",
    "\n",
    "# Iterate through models and train\n",
    "for model_name, model in models.items():\n",
    "    model.fit(X_train, y_train)  # Train model\n",
    "\n",
    "    # Make predictions\n",
    "    y_train_pred = model.predict(X_train)\n",
    "    y_test_pred = model.predict(X_test)\n",
    "\n",
    "    # Evaluate Train and Test dataset\n",
    "    model_train_mae, model_train_rmse, model_train_r2 = evaluate_model(y_train, y_train_pred)\n",
    "    model_test_mae, model_test_rmse, model_test_r2 = evaluate_model(y_test, y_test_pred)\n",
    "\n",
    "    # Print model performance\n",
    "    print(f\"---------------- {model_name} ----------------\")\n",
    "    \n",
    "    print('Model performance for Training set')\n",
    "    print(\"- Root Mean Squared Error: {:.4f}\".format(model_train_rmse))\n",
    "    print(\"- Mean Absolute Error: {:.4f}\".format(model_train_mae))\n",
    "    print(\"- R2 Score: {:.4f}\".format(model_train_r2))\n",
    "\n",
    "    print('----------------------------------')\n",
    "    \n",
    "    print('Model performance for Test set')\n",
    "    print(\"- Root Mean Squared Error: {:.4f}\".format(model_test_rmse))\n",
    "    print(\"- Mean Absolute Error: {:.4f}\".format(model_test_mae))\n",
    "    print(\"- R2 Score: {:.4f}\".format(model_test_r2))\n",
    "    \n",
    "    print('='*35)\n",
    "    print('\\n')\n"
   ]
  },
  {
   "cell_type": "code",
   "execution_count": 58,
   "metadata": {},
   "outputs": [
    {
     "name": "stdout",
     "output_type": "stream",
     "text": [
      "Best hyperparameters: {'subsample': 0.8, 'n_estimators': 200, 'min_child_weight': 1, 'max_depth': 12, 'learning_rate': 0.1, 'colsample_bytree': 0.8}\n"
     ]
    }
   ],
   "source": [
    "from sklearn.model_selection import RandomizedSearchCV\n",
    "from xgboost import XGBRegressor\n",
    "\n",
    "# Define the model\n",
    "model = XGBRegressor()\n",
    "\n",
    "# Define the parameter distribution\n",
    "param_dist = {\n",
    "    'max_depth': [3, 6, 9, 12],\n",
    "    'learning_rate': [0.01, 0.05, 0.1],\n",
    "    'n_estimators': [50, 100, 200],\n",
    "    'subsample': [0.7, 0.8, 0.9, 1.0],\n",
    "    'colsample_bytree': [0.7, 0.8, 1.0],\n",
    "    'min_child_weight': [1, 3, 5]\n",
    "}\n",
    "\n",
    "# Apply RandomizedSearchCV\n",
    "random_search = RandomizedSearchCV(estimator=model, param_distributions=param_dist, n_iter=100, cv=3, scoring='neg_mean_squared_error')\n",
    "random_search.fit(X_train, y_train)\n",
    "\n",
    "print(f\"Best hyperparameters: {random_search.best_params_}\")\n"
   ]
  },
  {
   "cell_type": "code",
   "execution_count": 59,
   "metadata": {},
   "outputs": [
    {
     "name": "stdout",
     "output_type": "stream",
     "text": [
      "XGBoost Performance with Best Parameters:\n",
      "Model performance for Training set\n",
      "- Root Mean Squared Error: 0.0014\n",
      "- Mean Absolute Error: 0.0012\n",
      "- R2 Score: 1.0000\n",
      "----------------------------------\n",
      "Model performance for Test set\n",
      "- Root Mean Squared Error: 0.0014\n",
      "- Mean Absolute Error: 0.0012\n",
      "- R2 Score: 1.0000\n"
     ]
    }
   ],
   "source": [
    "# Initialize XGBoost with the best parameters from RandomizedSearchCV\n",
    "best_xgb_model = xgb.XGBRegressor(\n",
    "    subsample=0.8,\n",
    "    n_estimators=200,\n",
    "    min_child_weight=1,\n",
    "    max_depth=12,\n",
    "    learning_rate=0.1,\n",
    "    colsample_bytree=0.8\n",
    ")\n",
    "\n",
    "# Train the best model\n",
    "best_xgb_model.fit(X_train, y_train)\n",
    "\n",
    "# Make predictions on both the training and test data\n",
    "y_train_pred = best_xgb_model.predict(X_train)\n",
    "y_test_pred = best_xgb_model.predict(X_test)\n",
    "\n",
    "# Evaluate the model\n",
    "train_mae, train_rmse, train_r2 = evaluate_model(y_train, y_train_pred)\n",
    "test_mae, test_rmse, test_r2 = evaluate_model(y_test, y_test_pred)\n",
    "\n",
    "# Print the results\n",
    "print(\"XGBoost Performance with Best Parameters:\")\n",
    "print('Model performance for Training set')\n",
    "print(f\"- Root Mean Squared Error: {train_rmse:.4f}\")\n",
    "print(f\"- Mean Absolute Error: {train_mae:.4f}\")\n",
    "print(f\"- R2 Score: {train_r2:.4f}\")\n",
    "\n",
    "print('----------------------------------')\n",
    "\n",
    "print('Model performance for Test set')\n",
    "print(f\"- Root Mean Squared Error: {test_rmse:.4f}\")\n",
    "print(f\"- Mean Absolute Error: {test_mae:.4f}\")\n",
    "print(f\"- R2 Score: {test_r2:.4f}\")\n"
   ]
  },
  {
   "cell_type": "code",
   "execution_count": 61,
   "metadata": {},
   "outputs": [
    {
     "name": "stdout",
     "output_type": "stream",
     "text": [
      "Preprocessor saved successfully!\n"
     ]
    }
   ],
   "source": [
    "\n",
    "# Save the preprocessor\n",
    "import joblib\n",
    "joblib.dump(preprocessor, 'preprocessor.pkl')\n",
    "print(\"Preprocessor saved successfully!\")"
   ]
  },
  {
   "cell_type": "code",
   "execution_count": 65,
   "metadata": {},
   "outputs": [
    {
     "name": "stdout",
     "output_type": "stream",
     "text": [
      "Model saved successfully!\n"
     ]
    }
   ],
   "source": [
    "\n",
    "# Save the model\n",
    "joblib.dump(best_xgb_model, 'xgb_model.pkl')\n",
    "print(\"Model saved successfully!\")"
   ]
  },
  {
   "cell_type": "code",
   "execution_count": 102,
   "metadata": {},
   "outputs": [],
   "source": [
    "with open('preprocessor.pkl', 'rb') as preprocessor_file:\n",
    "    preprocessor = pickle.load(preprocessor_file)\n"
   ]
  },
  {
   "cell_type": "code",
   "execution_count": 67,
   "metadata": {},
   "outputs": [],
   "source": [
    "with open('xgb_model.pkl', 'rb') as model_file:\n",
    "    model = pickle.load(model_file)"
   ]
  },
  {
   "cell_type": "code",
   "execution_count": 99,
   "metadata": {},
   "outputs": [],
   "source": [
    "data = {\n",
    "    'Category': 'Groceries',\n",
    "    'Amount': 200.0,\n",
    "    'Income': 120000,\n",
    "    'Savings': 30000,\n",
    "    'Loan Payments': 2000,\n",
    "    'Credit Card Spending': 1500,\n",
    "    'Dependents': 2,\n",
    "    'Financial Goals Met (%)': 75,\n",
    "}"
   ]
  }
 ],
 "metadata": {
  "kernelspec": {
   "display_name": "myenv",
   "language": "python",
   "name": "python3"
  },
  "language_info": {
   "codemirror_mode": {
    "name": "ipython",
    "version": 3
   },
   "file_extension": ".py",
   "mimetype": "text/x-python",
   "name": "python",
   "nbconvert_exporter": "python",
   "pygments_lexer": "ipython3",
   "version": "3.8.20"
  }
 },
 "nbformat": 4,
 "nbformat_minor": 2
}
